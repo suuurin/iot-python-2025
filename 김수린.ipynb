{
 "cells": [
  {
   "cell_type": "markdown",
   "metadata": {},
   "source": [
    "# 1."
   ]
  },
  {
   "cell_type": "code",
   "execution_count": 5,
   "metadata": {},
   "outputs": [
    {
     "name": "stdout",
     "output_type": "stream",
     "text": [
      "원의 넓이는 28.274328\n"
     ]
    }
   ],
   "source": [
    "r = float(input('반지름값: '))\n",
    "\n",
    "area = 3.141592 * (r**2)\n",
    "print(f'원의 넓이는 {area}')\n"
   ]
  },
  {
   "cell_type": "markdown",
   "metadata": {},
   "source": [
    "# 2."
   ]
  },
  {
   "cell_type": "code",
   "execution_count": 32,
   "metadata": {},
   "outputs": [
    {
     "name": "stdout",
     "output_type": "stream",
     "text": [
      "영문 입력! 다시!\n"
     ]
    }
   ],
   "source": [
    "def get_url(name):\n",
    "    if name.encode().isalpha():\n",
    "        return f'www.{name}.com'\n",
    "    else: return '영문 입력! 다시!'\n",
    "\n",
    "url = get_url('google') \n",
    "print(url)"
   ]
  },
  {
   "cell_type": "markdown",
   "metadata": {},
   "source": [
    "# 3."
   ]
  },
  {
   "cell_type": "code",
   "execution_count": 2,
   "metadata": {},
   "outputs": [
    {
     "name": "stdout",
     "output_type": "stream",
     "text": [
      "23 46 69 92 115 138 161 184 207 "
     ]
    }
   ],
   "source": [
    "x = int(input(\"구구단 단번호: \"))\n",
    "\n",
    "for y in range(1,9+1):\n",
    "    print(f'{x * y}', end=' ')"
   ]
  },
  {
   "cell_type": "markdown",
   "metadata": {},
   "source": [
    "# 4."
   ]
  },
  {
   "cell_type": "code",
   "execution_count": 25,
   "metadata": {},
   "outputs": [
    {
     "name": "stdout",
     "output_type": "stream",
     "text": [
      "[1, 5, 6, 8, 1] -> [1, 8, 6, 5, 1]\n"
     ]
    }
   ],
   "source": [
    "a = list(map(int, input('수 입력: ').split()))\n",
    "b = a[::-1]\n",
    "\n",
    "print(f'{a} -> {b}')"
   ]
  },
  {
   "cell_type": "markdown",
   "metadata": {},
   "source": [
    "# 5."
   ]
  },
  {
   "cell_type": "code",
   "execution_count": 1,
   "metadata": {},
   "outputs": [
    {
     "name": "stdout",
     "output_type": "stream",
     "text": [
      "수린, 007-0000-0000, 삼성\n"
     ]
    }
   ],
   "source": [
    "class SmartPhone:\n",
    "    def __init__(self, phoneOwner, phoneNumber, company):\n",
    "        self.phoneOwner = phoneOwner\n",
    "        self.phoneNumber = phoneNumber\n",
    "        self.company = company\n",
    "\n",
    "    def phone_print(self):\n",
    "        print(f'{self.phoneOwner}, {self.phoneNumber}, {self.company}')\n",
    "\n",
    "phone1 = SmartPhone(\"수린\", \"007-0000-0000\", \"삼성\")\n",
    "\n",
    "phone1.phone_print()"
   ]
  }
 ],
 "metadata": {
  "kernelspec": {
   "display_name": "Python 3",
   "language": "python",
   "name": "python3"
  },
  "language_info": {
   "codemirror_mode": {
    "name": "ipython",
    "version": 3
   },
   "file_extension": ".py",
   "mimetype": "text/x-python",
   "name": "python",
   "nbconvert_exporter": "python",
   "pygments_lexer": "ipython3",
   "version": "3.11.9"
  }
 },
 "nbformat": 4,
 "nbformat_minor": 2
}
